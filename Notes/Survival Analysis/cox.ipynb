{
 "cells": [
  {
   "cell_type": "markdown",
   "metadata": {},
   "source": [
    "https://lifelines.readthedocs.io/en/latest/Survival%20Regression.html"
   ]
  },
  {
   "cell_type": "code",
   "execution_count": null,
   "metadata": {},
   "outputs": [],
   "source": [
    "# ! pip install lifelines"
   ]
  },
  {
   "cell_type": "code",
   "execution_count": 10,
   "metadata": {},
   "outputs": [
    {
     "name": "stdout",
     "output_type": "stream",
     "text": [
      "Iteration 1: norm_delta = 5.09e-01, step_size = 0.9500, log_lik = -675.38063, newton_decrement = 1.68e+01, seconds_since_start = 0.0\n",
      "Iteration 2: norm_delta = 1.39e-01, step_size = 0.9500, log_lik = -659.79004, newton_decrement = 9.92e-01, seconds_since_start = 0.0\n",
      "Iteration 3: norm_delta = 1.80e-02, step_size = 0.9500, log_lik = -658.76197, newton_decrement = 1.42e-02, seconds_since_start = 0.0\n",
      "Iteration 4: norm_delta = 1.83e-04, step_size = 1.0000, log_lik = -658.74766, newton_decrement = 1.32e-06, seconds_since_start = 0.0\n",
      "Iteration 5: norm_delta = 1.97e-08, step_size = 1.0000, log_lik = -658.74766, newton_decrement = 1.34e-14, seconds_since_start = 0.0\n",
      "Convergence success after 5 iterations.\n",
      "<lifelines.CoxPHFitter: fitted with 432 total observations, 318 right-censored observations>\n",
      "             duration col = 'week'\n",
      "                event col = 'arrest'\n",
      "      baseline estimation = breslow\n",
      "   number of observations = 432\n",
      "number of events observed = 114\n",
      "   partial log-likelihood = -658.75\n",
      "         time fit was run = 2025-04-12 05:39:21 UTC\n",
      "\n",
      "---\n",
      "           coef exp(coef)  se(coef)  coef lower 95%  coef upper 95% exp(coef) lower 95% exp(coef) upper 95%\n",
      "covariate                                                                                                  \n",
      "fin       -0.38      0.68      0.19           -0.75           -0.00                0.47                1.00\n",
      "age       -0.06      0.94      0.02           -0.10           -0.01                0.90                0.99\n",
      "race       0.31      1.37      0.31           -0.29            0.92                0.75                2.50\n",
      "wexp      -0.15      0.86      0.21           -0.57            0.27                0.57                1.30\n",
      "mar       -0.43      0.65      0.38           -1.18            0.31                0.31                1.37\n",
      "paro      -0.08      0.92      0.20           -0.47            0.30                0.63                1.35\n",
      "prio       0.09      1.10      0.03            0.04            0.15                1.04                1.16\n",
      "\n",
      "           cmp to     z      p  -log2(p)\n",
      "covariate                               \n",
      "fin          0.00 -1.98   0.05      4.40\n",
      "age          0.00 -2.61   0.01      6.79\n",
      "race         0.00  1.02   0.31      1.70\n",
      "wexp         0.00 -0.71   0.48      1.06\n",
      "mar          0.00 -1.14   0.26      1.97\n",
      "paro         0.00 -0.43   0.66      0.59\n",
      "prio         0.00  3.19 <0.005      9.48\n",
      "---\n",
      "Concordance = 0.64\n",
      "Partial AIC = 1331.50\n",
      "log-likelihood ratio test = 33.27 on 7 df\n",
      "-log2(p) of ll-ratio test = 15.37\n",
      "\n"
     ]
    }
   ],
   "source": [
    "from lifelines import CoxPHFitter\n",
    "from lifelines.datasets import load_rossi\n",
    "\n",
    "rossi = load_rossi()\n",
    "\n",
    "cph = CoxPHFitter()\n",
    "cph.fit(rossi, duration_col='week', event_col='arrest', show_progress=True)\n",
    "\n",
    "cph.print_summary(style=\"ascii\")  # access the individual results using cph.summary"
   ]
  },
  {
   "cell_type": "markdown",
   "metadata": {},
   "source": [
    "### 1. Overall model information\n",
    "- **`<lifelines.CoxPHFitter: fitted with 432 total observations, 318 right - censored observations>`**\n",
    "    - This indicates that the Cox Proportional - Hazard model was fitted using 432 observations in total. Out of these, 318 observations were right - censored. Right - censoring means that for these observations, the event of interest (in this case, \"arrest\") did not occur within the observation period.\n",
    "- **`duration col = 'week'`**\n",
    "    - The variable representing the time duration in the dataset is the \"week\" column. In the Cox model formula $h(t|x) = h_0(t)\\exp(\\beta^Tx)$, $t$ in this context is represented by the \"week\" variable.\n",
    "- **`event col = 'arrest'`**\n",
    "    - The variable indicating whether the event (re - arrest in this case) occurred is the \"arrest\" column. A value of 1 in this column means the event occurred, and 0 means it was censored.\n",
    "- **`number of observations = 432`**\n",
    "    - Total number of data points used in fitting the model.\n",
    "- **`number of events observed = 114`**\n",
    "    - Out of the 432 observations, 114 had the event (re - arrest) occur.\n",
    "- **`partial log - likelihood = - 658.75`**\n",
    "    - The partial log - likelihood value. In the Cox model, the partial likelihood function is used for estimation. Mathematically, for a set of $n$ observations $(t_i, \\delta_i, x_i)$ where $t_i$ is the time, $\\delta_i$ is the event indicator ($1$ if event occurred, $0$ if censored), and $x_i$ is the covariate vector, the partial likelihood is $L(\\beta)=\\prod_{i = 1}^{n}\\left(\\frac{\\exp(\\beta^Tx_i)}{\\sum_{j\\in R(t_i)}\\exp(\\beta^Tx_j)}\\right)^{\\delta_i}$, and the partial log - likelihood is $\\ln L(\\beta)$. A higher (less negative) partial log - likelihood indicates a better fit of the model to the data.\n",
    "- **`time fit was run = 2019 - 10 - 05 14:24:44 UTC`**\n",
    "    - Timestamp when the model was fitted.\n",
    "\n",
    "### 2. Coefficient estimates\n",
    "- **`coef`**:\n",
    "    - These are the estimated regression coefficients $\\beta$ in the Cox model formula $h(t|x) = h_0(t)\\exp(\\beta^Tx)$. For example, for the \"fin\" variable, the coefficient is $-0.38$. A negative coefficient implies that an increase in the \"fin\" variable is associated with a decrease in the hazard rate.\n",
    "- **`exp(coef)`**:\n",
    "    - This is the exponentiation of the coefficient, which gives the hazard ratio (HR) for each covariate. For \"fin\", $\\exp(- 0.38)=0.68$. If $HR < 1$, as in the case of \"fin\", it means that an increase in the \"fin\" variable is associated with a lower risk of the event (re - arrest). For \"prio\", $\\exp(0.09) = 1.10$, indicating that an increase in the number of prior arrests (prio) is associated with a 10% increase in the hazard rate.\n",
    "- **`se(coef)`**:\n",
    "    - Standard error of the coefficient estimates. It measures the uncertainty around the estimated coefficient. For example, the standard error for the \"fin\" coefficient is $0.19$.\n",
    "- **`coef lower 95%` and `coef upper 95%`**:\n",
    "    - These are the lower and upper bounds of the 95% confidence interval for the coefficient. If the 95% confidence interval for a coefficient does not contain 0, it suggests that the covariate is statistically significant at the 5% level. For \"age\", the 95% confidence interval $(-0.10, - 0.01)$ does not contain 0, indicating that \"age\" is a significant covariate. 4. 95% Confidence Interval of the Coefficient (Coefficient Lower/Upper 95%).\n",
    "\n",
    "    For each coefficient $\\hat{\\beta}$, the calculation of its 95% confidence interval is based on the standard error and the properties of the normal distribution. The calculation formula is $\\hat{\\beta} \\pm z_{0.025} \\times se(\\hat{\\beta})$, where $z_{0.025}$ is the two-sided quantile of the standard normal distribution, corresponding to a 95% confidence level, which is approximately 1.96. \n",
    "\n",
    "\n",
    "- **`exp(coef) lower 95%` and `exp(coef) upper 95%`**:\n",
    "    - 95% confidence intervals for the hazard ratio. For \"race\", the 95% confidence interval for the hazard ratio is $(0.75, 2.50)$, which means that we are 95% confident that the true hazard ratio for the \"race\" variable lies within this range.\n",
    "\n",
    "### 3. Hypothesis testing statistics\n",
    "- **`z`**:\n",
    "    - The z - score for each coefficient, calculated as $z=\\frac{\\hat{\\beta}}{se(\\hat{\\beta})}$, where $\\hat{\\beta}$ is the estimated coefficient and $se(\\hat{\\beta})$ is its standard error. It is used to test the null hypothesis that the coefficient is equal to 0. For \"prio\", $z = 3.19$, which is a relatively large value, indicating strong evidence against the null hypothesis.\n",
    "- **`p`**:\n",
    "    - The p - value associated with the z - score. It represents the probability of observing the data (or more extreme data) if the null hypothesis is true. A small p - value (e.g., $p<0.05$) indicates that the covariate is statistically significant. For \"age\", $p = 0.01$, suggesting that \"age\" is a significant predictor of the event.\n",
    "- **`-log2(p)`**:\n",
    "    - This is just another way of representing the significance of the result. Larger values of $-\\log_2(p)$ indicate more significant results.\n",
    "\n",
    "### 4. Model fit and performance metrics\n",
    "- **`Concordance = 0.64`**:\n",
    "    - The concordance index (also known as c - index) measures the ability of the model to rank the risk of events correctly. A value of 0.5 means the model's predictions are no better than random, and a value of 1 means perfect discrimination. Here, a concordance index of 0.64 indicates that the model has some discriminatory power, but there is still room for improvement.\n",
    "- **`Partial AIC = 1331.50`**:\n",
    "    - The Partial Akaike Information Criterion (AIC). For the Cox model, it is based on the partial log - likelihood. AIC is used for model selection, and a lower AIC value indicates a better - fitting model. It balances the goodness - of - fit of the model (captured by the log - likelihood) with the complexity of the model (number of parameters).\n",
    "- **`log - likelihood ratio test = 33.27 on 7 df`**:\n",
    "    - The log - likelihood ratio test compares the fit of the current model with a null model (usually a model with no covariates). The test statistic is calculated as $G = 2(\\ln L_{full}-\\ln L_{null})$, where $\\ln L_{full}$ is the log - likelihood of the full model (the model with covariates) and $\\ln L_{null}$ is the log - likelihood of the null model. Here, the test is based on 7 degrees of freedom (df), which is related to the number of covariates in the model. A large test statistic value suggests that the full model fits the data significantly better than the null model.\n",
    "- **`-log2(p) of ll - ratio test = 15.37`**:\n",
    "    - Similar to the individual coefficient p - values, this represents the significance of the log - likelihood ratio test result. A large value indicates strong evidence against the null hypothesis that the covariates do not contribute to the model. "
   ]
  },
  {
   "cell_type": "markdown",
   "metadata": {},
   "source": []
  },
  {
   "cell_type": "code",
   "execution_count": null,
   "metadata": {},
   "outputs": [
    {
     "data": {
      "text/plain": [
       "<Axes: xlabel='log(HR) (95% CI)'>"
      ]
     },
     "execution_count": 12,
     "metadata": {},
     "output_type": "execute_result"
    },
    {
     "data": {
      "image/png": "[encoded data removed]",
      "text/plain": [
       "<Figure size 640x480 with 1 Axes>"
      ]
     },
     "metadata": {},
     "output_type": "display_data"
    }
   ],
   "source": [
    "cph.plot()"
   ]
  },
  {
   "cell_type": "markdown",
   "metadata": {},
   "source": [
    "In survival analysis:\n",
    "- **Meaning**: log(HR) stands for the natural logarithm of the Hazard Ratio (HR). The Hazard Ratio is used to compare the hazard functions of two groups (such as an exposed group and a non - exposed group), reflecting the multiple of the risk of event occurrence in one group relative to another. Taking the logarithm makes its distribution more approximately normal, which is convenient for statistical analysis and model fitting, making operations such as parameter estimation and hypothesis testing more reasonable.\n",
    " - **Explanation example**: If log(HR) = 0, the corresponding HR = 1, indicating that the risks of the two groups are equal; if log(HR) > 0, the corresponding HR > 1, meaning that the risk of one group is higher than that of the other; if log(HR) < 0, the corresponding HR < 1, which means that the risk of one group is lower than that of the other. In the figure, the log(HR) values corresponding to different variables (such as race, age, etc.) reflect the influence degree of these variables on the risk of event occurrence compared with the reference group. "
   ]
  },
  {
   "cell_type": "markdown",
   "metadata": {},
   "source": [
    "In survival analysis, the hazard ratio (HR) is a key metric. Consider the Cox proportional - hazard model, which is often expressed as:\n",
    "\n",
    "\n",
    "$h(t|x) = h_0(t)\\exp(\\beta^Tx) $\n",
    "\n",
    "where $h(t|x)$ is the hazard function for an individual with covariate vector $x$ at time $t$, $h_0(t)$ is the baseline hazard function (independent of covariates and only a function of time), $\\beta$ is the vector of regression coefficients, and $x$ is the vector of covariates.\n",
    "\n",
    "If we have two groups with different covariate values $x_1$ and $x_2$, the hazard functions for these two groups are $h_1(t)=h_0(t)\\exp(\\beta^Tx_1)$ and $h_2(t)=h_0(t)\\exp(\\beta^Tx_2)$ respectively.\n",
    "\n",
    "The hazard ratio (HR) between these two groups is then:\n",
    "\n",
    "$HR=\\frac{h_1(t)}{h_2(t)}=\\frac{h_0(t)\\exp(\\beta^Tx_1)}{h_0(t)\\exp(\\beta^Tx_2)}=\\exp(\\beta^T(x_1 - x_2))$\n",
    "\n",
    "Taking the natural logarithm of both sides, we get:\n",
    "\n",
    "\\[\\log(HR)=\\beta^T(x_1 - x_2)\\]\n",
    "\n",
    "This formula shows that $\\log(HR)$ is a linear combination of the differences in covariate values ($x_1 - x_2$) weighted by the regression coefficients $\\beta$. A positive $\\log(HR)$ value implies that the hazard in group 1 is higher than in group 2, because $\\log(HR)>0$ means $HR > 1$ (since $y = \\ln(x)$ is a monotonically increasing function, when $\\ln(x)>0$, $x>1$). Conversely, a negative $\\log(HR)$ indicates that the hazard in group 1 is lower than in group 2. When $\\log(HR) = 0$, $HR = 1$, meaning the hazards in the two groups are equal. In essence, $\\log(HR)$ provides a more interpretable and often more symmetric measure for comparing risks between different groups in the context of survival models, especially when conducting statistical inference and hypothesis testing. "
   ]
  },
  {
   "cell_type": "code",
   "execution_count": null,
   "metadata": {},
   "outputs": [
    {
     "name": "stdout",
     "output_type": "stream",
     "text": [
      "cph.params__ covariate\n",
      "fin    -0.379422\n",
      "age    -0.057438\n",
      "race    0.313900\n",
      "wexp   -0.149796\n",
      "mar    -0.433704\n",
      "paro   -0.084871\n",
      "prio    0.091497\n",
      "Name: coef, dtype: float64\n",
      "cph.log_likelihood_ -658.7476594460855\n"
     ]
    },
    {
     "ename": "AttributeError",
     "evalue": "'function' object has no attribute 'show_progress'",
     "output_type": "error",
     "traceback": [
      "\u001b[1;31m---------------------------------------------------------------------------\u001b[0m",
      "\u001b[1;31mAttributeError\u001b[0m                            Traceback (most recent call last)",
      "Cell \u001b[1;32mIn[9], line 5\u001b[0m\n\u001b[0;32m      3\u001b[0m \u001b[38;5;28mprint\u001b[39m(\u001b[38;5;124m'\u001b[39m\u001b[38;5;124mcph.log_likelihood_\u001b[39m\u001b[38;5;124m'\u001b[39m, cph\u001b[38;5;241m.\u001b[39mlog_likelihood_)\u001b[38;5;66;03m## -658.7476594460855\u001b[39;00m\n\u001b[0;32m      4\u001b[0m \u001b[38;5;66;03m# print('cph.variance_matrix_', cph.variance_matrix_)\u001b[39;00m\n\u001b[1;32m----> 5\u001b[0m \u001b[38;5;28mprint\u001b[39m(\u001b[38;5;124m'\u001b[39m\u001b[38;5;124mcph.show_progress\u001b[39m\u001b[38;5;124m'\u001b[39m, cph\u001b[38;5;241m.\u001b[39mfit\u001b[38;5;241m.\u001b[39mshow_progress)\n",
      "\u001b[1;31mAttributeError\u001b[0m: 'function' object has no attribute 'show_progress'"
     ]
    }
   ],
   "source": [
    "print('cph.params__', cph.params_)\n",
    "# print('cph.baseline_hazard_', cph.baseline_hazard_)\n",
    "# print('cph.variance_matrix_', cph.variance_matrix_)\n"
   ]
  },
  {
   "cell_type": "code",
   "execution_count": 3,
   "metadata": {},
   "outputs": [
    {
     "name": "stdout",
     "output_type": "stream",
     "text": [
      "<lifelines.CoxPHFitter: fitted with 4 total observations, 1 right-censored observations>\n",
      "             duration col = 'time'\n",
      "                event col = 'event'\n",
      "      baseline estimation = breslow\n",
      "   number of observations = 4\n",
      "number of events observed = 3\n",
      "   partial log-likelihood = -0.00\n",
      "         time fit was run = 2025-03-25 23:42:19 UTC\n",
      "\n",
      "---\n",
      "            coef exp(coef)  se(coef)  coef lower 95%  coef upper 95% exp(coef) lower 95% exp(coef) upper 95%\n",
      "covariate                                                                                                   \n",
      "age         1.04      2.82     34.44          -66.47           68.54                0.00            5.86e+29\n",
      "sex       -42.69      0.00    657.16        -1330.71         1245.32                0.00                 inf\n",
      "height      1.10      2.99     68.13         -132.43          134.62                0.00            2.92e+58\n",
      "\n",
      "           cmp to     z    p  -log2(p)\n",
      "covariate                             \n",
      "age          0.00  0.03 0.98      0.04\n",
      "sex          0.00 -0.06 0.95      0.08\n",
      "height       0.00  0.02 0.99      0.02\n",
      "---\n",
      "Concordance = 1.00\n",
      "Partial AIC = 6.00\n",
      "log-likelihood ratio test = 4.97 on 3 df\n",
      "-log2(p) of ll-ratio test = 2.52\n",
      "\n"
     ]
    },
    {
     "name": "stderr",
     "output_type": "stream",
     "text": [
      "c:\\Users\\phan635\\.conda\\envs\\d2l\\Lib\\site-packages\\lifelines\\fitters\\coxph_fitter.py:1589: ConvergenceWarning: The log-likelihood is getting suspiciously close to 0 and the delta is still large. There may be complete separation in the dataset. This may result in incorrect inference of coefficients. See https://stats.stackexchange.com/q/11109/11867 for more.\n",
      "\n",
      "  warnings.warn(\n",
      "c:\\Users\\phan635\\.conda\\envs\\d2l\\Lib\\site-packages\\lifelines\\fitters\\coxph_fitter.py:1614: ConvergenceWarning: Newton-Raphson failed to converge sufficiently. Please see the following tips in the lifelines documentation: https://lifelines.readthedocs.io/en/latest/Examples.html#problems-with-convergence-in-the-cox-proportional-hazard-model\n",
      "  warnings.warn(\n"
     ]
    }
   ],
   "source": [
    "from lifelines import CoxPHFitter\n",
    "import pandas as pd\n",
    "data = pd.DataFrame({\n",
    "    'time': [3, 5, 4, 2],\n",
    "    'event': [1, 1, 0, 1],\n",
    "    'age': [30, 45, 25, 60],\n",
    "    'sex': [0, 1, 0, 1],\n",
    "    'height': [160, 175, 155, 180]\n",
    "})\n",
    "cph = CoxPHFitter()\n",
    "cph.fit(data, duration_col='time', event_col='event')\n",
    "cph.print_summary(style=\"ascii\")\n",
    "# cph.summary"
   ]
  },
  {
   "cell_type": "code",
   "execution_count": 8,
   "metadata": {},
   "outputs": [
    {
     "name": "stdout",
     "output_type": "stream",
     "text": [
      "<lifelines.CoxPHFitter: fitted with 12 total observations, 3 right-censored observations>\n",
      "             duration col = 'T'\n",
      "                event col = 'E'\n",
      "      baseline estimation = breslow\n",
      "   number of observations = 12\n",
      "number of events observed = 9\n",
      "   partial log-likelihood = -4.70\n",
      "         time fit was run = 2025-03-25 23:54:26 UTC\n",
      "\n",
      "---\n",
      "           coef exp(coef)  se(coef)  coef lower 95%  coef upper 95% exp(coef) lower 95% exp(coef) upper 95%\n",
      "covariate                                                                                                  \n",
      "var        0.64      1.89      0.79           -0.92            2.20                0.40                8.99\n",
      "age       -2.62      0.07      1.18           -4.93           -0.31                0.01                0.74\n",
      "\n",
      "           cmp to     z    p  -log2(p)\n",
      "covariate                             \n",
      "var          0.00  0.80 0.42      1.25\n",
      "age          0.00 -2.22 0.03      5.24\n",
      "---\n",
      "Concordance = 0.95\n",
      "Partial AIC = 13.41\n",
      "log-likelihood ratio test = 19.61 on 2 df\n",
      "-log2(p) of ll-ratio test = 14.14\n",
      "\n"
     ]
    },
    {
     "data": {
      "text/plain": [
       "0     5.0\n",
       "1     4.0\n",
       "2     9.0\n",
       "3     8.0\n",
       "4     8.0\n",
       "5     5.0\n",
       "6     5.0\n",
       "7     4.0\n",
       "8     2.0\n",
       "9     6.0\n",
       "10    6.0\n",
       "11    7.0\n",
       "Name: 0.5, dtype: float64"
      ]
     },
     "execution_count": 8,
     "metadata": {},
     "output_type": "execute_result"
    }
   ],
   "source": [
    "from lifelines import CoxPHFitter\n",
    "\n",
    "df = pd.DataFrame({\n",
    "    'T': [5, 3, 9, 8, 7, 4, 4, 3, 2, 5, 6, 7],\n",
    "    'E': [1, 1, 1, 1, 1, 1, 0, 0, 1, 1, 1, 0],\n",
    "    'var': [0, 0, 0, 0, 1, 1, 1, 1, 1, 2, 2, 2],\n",
    "    'age': [4, 3, 9, 8, 7, 4, 4, 3, 2, 5, 6, 7],\n",
    "})\n",
    "\n",
    "cph = CoxPHFitter()\n",
    "cph.fit(df, 'T', 'E')\n",
    "cph.print_summary(style=\"ascii\")\n",
    "cph.predict_median(df)"
   ]
  },
  {
   "cell_type": "code",
   "execution_count": null,
   "metadata": {},
   "outputs": [],
   "source": []
  }
 ],
 "metadata": {
  "kernelspec": {
   "display_name": "d2l",
   "language": "python",
   "name": "python3"
  },
  "language_info": {
   "codemirror_mode": {
    "name": "ipython",
    "version": 3
   },
   "file_extension": ".py",
   "mimetype": "text/x-python",
   "name": "python",
   "nbconvert_exporter": "python",
   "pygments_lexer": "ipython3",
   "version": "3.12.7"
  }
 },
 "nbformat": 4,
 "nbformat_minor": 2
}
