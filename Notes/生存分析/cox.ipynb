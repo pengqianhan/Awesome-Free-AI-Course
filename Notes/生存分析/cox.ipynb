{
 "cells": [
  {
   "cell_type": "markdown",
   "metadata": {},
   "source": [
    "[Proportional hazards model wikipedia](https://en.wikipedia.org/wiki/Proportional_hazards_model)"
   ]
  },
  {
   "cell_type": "code",
   "execution_count": null,
   "metadata": {},
   "outputs": [],
   "source": []
  },
  {
   "cell_type": "code",
   "execution_count": null,
   "metadata": {},
   "outputs": [],
   "source": [
    "# ! pip install lifelines"
   ]
  },
  {
   "cell_type": "code",
   "execution_count": 3,
   "metadata": {},
   "outputs": [
    {
     "name": "stdout",
     "output_type": "stream",
     "text": [
      "<lifelines.CoxPHFitter: fitted with 4 total observations, 1 right-censored observations>\n",
      "             duration col = 'time'\n",
      "                event col = 'event'\n",
      "      baseline estimation = breslow\n",
      "   number of observations = 4\n",
      "number of events observed = 3\n",
      "   partial log-likelihood = -0.00\n",
      "         time fit was run = 2025-03-25 23:42:19 UTC\n",
      "\n",
      "---\n",
      "            coef exp(coef)  se(coef)  coef lower 95%  coef upper 95% exp(coef) lower 95% exp(coef) upper 95%\n",
      "covariate                                                                                                   \n",
      "age         1.04      2.82     34.44          -66.47           68.54                0.00            5.86e+29\n",
      "sex       -42.69      0.00    657.16        -1330.71         1245.32                0.00                 inf\n",
      "height      1.10      2.99     68.13         -132.43          134.62                0.00            2.92e+58\n",
      "\n",
      "           cmp to     z    p  -log2(p)\n",
      "covariate                             \n",
      "age          0.00  0.03 0.98      0.04\n",
      "sex          0.00 -0.06 0.95      0.08\n",
      "height       0.00  0.02 0.99      0.02\n",
      "---\n",
      "Concordance = 1.00\n",
      "Partial AIC = 6.00\n",
      "log-likelihood ratio test = 4.97 on 3 df\n",
      "-log2(p) of ll-ratio test = 2.52\n",
      "\n"
     ]
    },
    {
     "name": "stderr",
     "output_type": "stream",
     "text": [
      "c:\\Users\\phan635\\.conda\\envs\\d2l\\Lib\\site-packages\\lifelines\\fitters\\coxph_fitter.py:1589: ConvergenceWarning: The log-likelihood is getting suspiciously close to 0 and the delta is still large. There may be complete separation in the dataset. This may result in incorrect inference of coefficients. See https://stats.stackexchange.com/q/11109/11867 for more.\n",
      "\n",
      "  warnings.warn(\n",
      "c:\\Users\\phan635\\.conda\\envs\\d2l\\Lib\\site-packages\\lifelines\\fitters\\coxph_fitter.py:1614: ConvergenceWarning: Newton-Raphson failed to converge sufficiently. Please see the following tips in the lifelines documentation: https://lifelines.readthedocs.io/en/latest/Examples.html#problems-with-convergence-in-the-cox-proportional-hazard-model\n",
      "  warnings.warn(\n"
     ]
    }
   ],
   "source": [
    "from lifelines import CoxPHFitter\n",
    "import pandas as pd\n",
    "data = pd.DataFrame({\n",
    "    'time': [3, 5, 4, 2],\n",
    "    'event': [1, 1, 0, 1],\n",
    "    'age': [30, 45, 25, 60],\n",
    "    'sex': [0, 1, 0, 1],\n",
    "    'height': [160, 175, 155, 180]\n",
    "})\n",
    "cph = CoxPHFitter()\n",
    "cph.fit(data, duration_col='time', event_col='event')\n",
    "cph.print_summary(style=\"ascii\")\n",
    "# cph.summary"
   ]
  },
  {
   "cell_type": "code",
   "execution_count": 8,
   "metadata": {},
   "outputs": [
    {
     "name": "stdout",
     "output_type": "stream",
     "text": [
      "<lifelines.CoxPHFitter: fitted with 12 total observations, 3 right-censored observations>\n",
      "             duration col = 'T'\n",
      "                event col = 'E'\n",
      "      baseline estimation = breslow\n",
      "   number of observations = 12\n",
      "number of events observed = 9\n",
      "   partial log-likelihood = -4.70\n",
      "         time fit was run = 2025-03-25 23:54:26 UTC\n",
      "\n",
      "---\n",
      "           coef exp(coef)  se(coef)  coef lower 95%  coef upper 95% exp(coef) lower 95% exp(coef) upper 95%\n",
      "covariate                                                                                                  \n",
      "var        0.64      1.89      0.79           -0.92            2.20                0.40                8.99\n",
      "age       -2.62      0.07      1.18           -4.93           -0.31                0.01                0.74\n",
      "\n",
      "           cmp to     z    p  -log2(p)\n",
      "covariate                             \n",
      "var          0.00  0.80 0.42      1.25\n",
      "age          0.00 -2.22 0.03      5.24\n",
      "---\n",
      "Concordance = 0.95\n",
      "Partial AIC = 13.41\n",
      "log-likelihood ratio test = 19.61 on 2 df\n",
      "-log2(p) of ll-ratio test = 14.14\n",
      "\n"
     ]
    },
    {
     "data": {
      "text/plain": [
       "0     5.0\n",
       "1     4.0\n",
       "2     9.0\n",
       "3     8.0\n",
       "4     8.0\n",
       "5     5.0\n",
       "6     5.0\n",
       "7     4.0\n",
       "8     2.0\n",
       "9     6.0\n",
       "10    6.0\n",
       "11    7.0\n",
       "Name: 0.5, dtype: float64"
      ]
     },
     "execution_count": 8,
     "metadata": {},
     "output_type": "execute_result"
    }
   ],
   "source": [
    "from lifelines import CoxPHFitter\n",
    "\n",
    "df = pd.DataFrame({\n",
    "    'T': [5, 3, 9, 8, 7, 4, 4, 3, 2, 5, 6, 7],\n",
    "    'E': [1, 1, 1, 1, 1, 1, 0, 0, 1, 1, 1, 0],\n",
    "    'var': [0, 0, 0, 0, 1, 1, 1, 1, 1, 2, 2, 2],\n",
    "    'age': [4, 3, 9, 8, 7, 4, 4, 3, 2, 5, 6, 7],\n",
    "})\n",
    "\n",
    "cph = CoxPHFitter()\n",
    "cph.fit(df, 'T', 'E')\n",
    "cph.print_summary(style=\"ascii\")\n",
    "cph.predict_median(df)"
   ]
  },
  {
   "cell_type": "code",
   "execution_count": null,
   "metadata": {},
   "outputs": [],
   "source": []
  }
 ],
 "metadata": {
  "kernelspec": {
   "display_name": "d2l",
   "language": "python",
   "name": "python3"
  },
  "language_info": {
   "codemirror_mode": {
    "name": "ipython",
    "version": 3
   },
   "file_extension": ".py",
   "mimetype": "text/x-python",
   "name": "python",
   "nbconvert_exporter": "python",
   "pygments_lexer": "ipython3",
   "version": "3.12.7"
  }
 },
 "nbformat": 4,
 "nbformat_minor": 2
}
