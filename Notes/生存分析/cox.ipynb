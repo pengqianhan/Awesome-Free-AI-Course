{
 "cells": [
  {
<<<<<<< HEAD
=======
   "cell_type": "markdown",
   "metadata": {},
   "source": [
    "[Proportional hazards model wikipedia](https://en.wikipedia.org/wiki/Proportional_hazards_model)"
   ]
  },
  {
>>>>>>> 7ba7acf (verify (cox): validate cox proportional hazards model results)
   "cell_type": "code",
   "execution_count": null,
   "metadata": {},
   "outputs": [],
   "source": [
    "# ! pip install lifelines"
   ]
  },
  {
   "cell_type": "code",
   "execution_count": 1,
   "metadata": {},
   "outputs": [
    {
     "name": "stdout",
     "output_type": "stream",
     "text": [
      "<lifelines.CoxPHFitter: fitted with 4 total observations, 1 right-censored observations>\n",
      "             duration col = 'time'\n",
      "                event col = 'event'\n",
      "      baseline estimation = breslow\n",
      "   number of observations = 4\n",
      "number of events observed = 3\n",
      "   partial log-likelihood = -0.00\n",
      "         time fit was run = 2025-03-26 01:50:45 UTC\n",
      "\n",
      "---\n",
      "            coef exp(coef)  se(coef)  coef lower 95%  coef upper 95% exp(coef) lower 95% exp(coef) upper 95%\n",
      "covariate                                                                                                   \n",
      "age         1.04      2.82     34.44          -66.47           68.54                0.00            5.86e+29\n",
      "sex       -42.69      0.00    657.16        -1330.71         1245.32                0.00                 inf\n",
      "height      1.10      2.99     68.13         -132.43          134.62                0.00            2.92e+58\n",
      "\n",
      "           cmp to     z    p  -log2(p)\n",
      "covariate                             \n",
      "age          0.00  0.03 0.98      0.04\n",
      "sex          0.00 -0.06 0.95      0.08\n",
      "height       0.00  0.02 0.99      0.02\n",
      "---\n",
      "Concordance = 1.00\n",
      "Partial AIC = 6.00\n",
      "log-likelihood ratio test = 4.97 on 3 df\n",
      "-log2(p) of ll-ratio test = 2.52\n",
      "\n"
     ]
    },
    {
     "name": "stderr",
     "output_type": "stream",
     "text": [
      "/Users/pengqianhan/opt/anaconda3/envs/d2l/lib/python3.10/site-packages/lifelines/fitters/coxph_fitter.py:1589: ConvergenceWarning: The log-likelihood is getting suspiciously close to 0 and the delta is still large. There may be complete separation in the dataset. This may result in incorrect inference of coefficients. See https://stats.stackexchange.com/q/11109/11867 for more.\n",
      "\n",
      "  warnings.warn(\n",
      "/Users/pengqianhan/opt/anaconda3/envs/d2l/lib/python3.10/site-packages/lifelines/fitters/coxph_fitter.py:1614: ConvergenceWarning: Newton-Raphson failed to converge sufficiently. Please see the following tips in the lifelines documentation: https://lifelines.readthedocs.io/en/latest/Examples.html#problems-with-convergence-in-the-cox-proportional-hazard-model\n",
      "  warnings.warn(\n"
     ]
    }
   ],
   "source": [
    "from lifelines import CoxPHFitter\n",
    "import pandas as pd\n",
    "data = pd.DataFrame({\n",
    "    'time': [3, 5, 4, 2],\n",
    "    'event': [1, 1, 0, 1],\n",
    "    'age': [30, 45, 25, 60],\n",
    "    'sex': [0, 1, 0, 1],\n",
    "    'height': [160, 175, 155, 180]\n",
    "})\n",
    "cph = CoxPHFitter()\n",
    "cph.fit(data, duration_col='time', event_col='event')\n",
    "cph.print_summary(style=\"ascii\")\n",
    "# cph.summary"
   ]
  },
  {
   "cell_type": "markdown",
   "metadata": {},
   "source": [
    "https://www.simplypsychology.org/confidence-interval.html"
   ]
  },
  {
   "cell_type": "code",
   "execution_count": 9,
   "metadata": {},
   "outputs": [
    {
     "name": "stdout",
     "output_type": "stream",
     "text": [
      "\n",
      "Verifying statistics for age:\n",
      "Coefficient (beta): 1.04\n",
      "Standard Error (SE): 34.44\n",
      "Hazard Ratio (exp(beta)): 2.83\n",
      "95% CI for beta: [-66.46, 68.54]\n",
      "95% CI for exp(beta): [1.37e-29, 5.86e+29]\n",
      "Z-statistic: 0.03\n",
      "P-value: 0.98\n",
      "-log2(p): 0.04\n"
     ]
    }
   ],
   "source": [
    "import numpy as np\n",
    "from scipy.stats import norm\n",
    "import math\n",
    "\n",
    "# Coefficients and standard errors from the output\n",
    "coef = {'age': 1.04, 'sex': -42.69, 'height': 1.10}\n",
    "se = {'age': 34.44, 'sex': 657.16, 'height': 68.13}\n",
    "\n",
    "# Function to compute and verify all statistics for a covariate\n",
    "def verify_cox_stats(covariate, beta, se_beta):\n",
    "    print(f\"\\nVerifying statistics for {covariate}:\")\n",
    "    print(f\"Coefficient (beta): {beta:.2f}\")\n",
    "    print(f\"Standard Error (SE): {se_beta:.2f}\")\n",
    "    \n",
    "    # 1. Hazard Ratio: exp(beta)\n",
    "    hr = np.exp(beta)\n",
    "    print(f\"Hazard Ratio (exp(beta)): {hr:.2f}\")\n",
    "    \n",
    "    # 2. 95% Confidence Interval for beta\n",
    "    ci_lower_beta = beta - 1.96 * se_beta\n",
    "    ci_upper_beta = beta + 1.96 * se_beta\n",
    "    print(f\"95% CI for beta: [{ci_lower_beta:.2f}, {ci_upper_beta:.2f}]\")\n",
    "    \n",
    "    # 3. 95% Confidence Interval for Hazard Ratio\n",
    "    ci_lower_hr = np.exp(ci_lower_beta)\n",
    "    ci_upper_hr = np.exp(ci_upper_beta)\n",
    "    print(f\"95% CI for exp(beta): [{ci_lower_hr:.2e}, {ci_upper_hr:.2e}]\")\n",
    "    \n",
    "    # 4. Z-statistic: beta / SE\n",
    "    z = beta / se_beta\n",
    "    print(f\"Z-statistic: {z:.2f}\")\n",
    "    \n",
    "    # 5. P-value: 2 * (1 - CDF(|Z|))\n",
    "    p_value = 2 * (1 - norm.cdf(abs(z)))\n",
    "    print(f\"P-value: {p_value:.2f}\")\n",
    "    \n",
    "    # 6. -log2(p)\n",
    "    log2_p = -math.log2(p_value) if p_value > 0 else float('inf')\n",
    "    print(f\"-log2(p): {log2_p:.2f}\")\n",
    "\n",
    "# Verify each covariate\n",
    "# for cov in ['age', 'sex', 'height']:\n",
    "for cov in ['age']:\n",
    "    verify_cox_stats(cov, coef[cov], se[cov])"
   ]
  },
  {
   "cell_type": "markdown",
   "metadata": {},
   "source": [
    "## Verifiy the results of the Cox proportional hazards model\n"
   ]
  },
  {
   "cell_type": "code",
   "execution_count": 6,
   "metadata": {},
   "outputs": [
    {
     "name": "stdout",
     "output_type": "stream",
     "text": [
      "\n",
      "=== Verifying statistics for age ===\n",
      "Hazard Ratio (exp(beta)): 2.83 | Original: 2.82 | Matches? Yes\n",
      "95% CI for beta: [-66.46, 68.54] | Original: [-66.47, 68.54] | Matches? [Yes, Yes]\n",
      "95% CI for exp(beta): [1.37e-29, 5.86e+29] | Original: [0.00e+00, 5.86e+29] | Matches? [Yes, Yes]\n",
      "Z-statistic: 0.03 | Original: 0.03 | Matches? Yes\n",
      "P-value: 0.98 | Original: 0.98 | Matches? Yes\n",
      "-log2(p): 0.04 | Original: 0.04 | Matches? Yes\n",
      "\n",
      "=== Verifying statistics for sex ===\n",
      "Hazard Ratio (exp(beta)): 0.00 | Original: 0.00 | Matches? Yes\n",
      "95% CI for beta: [-1330.72, 1245.34] | Original: [-1330.71, 1245.32] | Matches? [Yes, No (rounding)]\n",
      "95% CI for exp(beta): [0.00e+00, inf] | Original: [0.00e+00, inf] | Matches? [Yes, Yes]\n",
      "Z-statistic: -0.06 | Original: -0.06 | Matches? Yes\n",
      "P-value: 0.95 | Original: 0.95 | Matches? Yes\n",
      "-log2(p): 0.08 | Original: 0.08 | Matches? Yes\n",
      "\n",
      "=== Verifying statistics for height ===\n",
      "Hazard Ratio (exp(beta)): 3.00 | Original: 2.99 | Matches? Yes\n",
      "95% CI for beta: [-132.43, 134.63] | Original: [-132.43, 134.62] | Matches? [Yes, Yes]\n",
      "95% CI for exp(beta): [3.05e-58, 2.96e+58] | Original: [0.00e+00, 2.92e+58] | Matches? [Yes, Yes]\n",
      "Z-statistic: 0.02 | Original: 0.02 | Matches? Yes\n",
      "P-value: 0.99 | Original: 0.99 | Matches? Yes\n",
      "-log2(p): 0.02 | Original: 0.02 | Matches? Yes\n"
     ]
    },
    {
     "name": "stderr",
     "output_type": "stream",
     "text": [
      "/var/folders/_m/0yljl6t57rb8jy9lzn6j186r0000gn/T/ipykernel_79413/932727313.py:51: RuntimeWarning: overflow encountered in exp\n",
      "  ci_upper_hr = np.exp(ci_upper_beta)\n"
     ]
    }
   ],
   "source": [
    "import numpy as np\n",
    "from scipy.stats import norm\n",
    "import math\n",
    "\n",
    "# Coefficients and standard errors from the output\n",
    "coef = {'age': 1.04, 'sex': -42.69, 'height': 1.10}\n",
    "se = {'age': 34.44, 'sex': 657.16, 'height': 68.13}\n",
    "\n",
    "# Original values from the table for comparison\n",
    "original_values = {\n",
    "    'age': {\n",
    "        'coef': 1.04, 'exp(coef)': 2.82, 'se': 34.44, \n",
    "        'coef_lower_95': -66.47, 'coef_upper_95': 68.54,\n",
    "        'exp(coef)_lower_95': 0.00, 'exp(coef)_upper_95': 5.86e29,\n",
    "        'z': 0.03, 'p': 0.98, '-log2(p)': 0.04\n",
    "    },\n",
    "    'sex': {\n",
    "        'coef': -42.69, 'exp(coef)': 0.00, 'se': 657.16,\n",
    "        'coef_lower_95': -1330.71, 'coef_upper_95': 1245.32,\n",
    "        'exp(coef)_lower_95': 0.00, 'exp(coef)_upper_95': float('inf'),\n",
    "        'z': -0.06, 'p': 0.95, '-log2(p)': 0.08\n",
    "    },\n",
    "    'height': {\n",
    "        'coef': 1.10, 'exp(coef)': 2.99, 'se': 68.13,\n",
    "        'coef_lower_95': -132.43, 'coef_upper_95': 134.62,\n",
    "        'exp(coef)_lower_95': 0.00, 'exp(coef)_upper_95': 2.92e58,\n",
    "        'z': 0.02, 'p': 0.99, '-log2(p)': 0.02\n",
    "    }\n",
    "}\n",
    "\n",
    "# Function to compute and verify all statistics for a covariate\n",
    "def verify_cox_stats(covariate, beta, se_beta, orig_vals):\n",
    "    print(f\"\\n=== Verifying statistics for {covariate} ===\")\n",
    "    \n",
    "    # 1. Hazard Ratio: exp(beta)\n",
    "    hr = np.exp(beta)\n",
    "    hr_match = \"Yes\" if abs(hr - orig_vals['exp(coef)']) < 0.02 else \"No (rounding)\"\n",
    "    print(f\"Hazard Ratio (exp(beta)): {hr:.2f} | Original: {orig_vals['exp(coef)']:.2f} | Matches? {hr_match}\")\n",
    "    \n",
    "    # 2. 95% Confidence Interval for beta\n",
    "    ci_lower_beta = beta - 1.96 * se_beta\n",
    "    ci_upper_beta = beta + 1.96 * se_beta\n",
    "    ci_lower_match = \"Yes\" if abs(ci_lower_beta - orig_vals['coef_lower_95']) < 0.02 else \"No (rounding)\"\n",
    "    ci_upper_match = \"Yes\" if abs(ci_upper_beta - orig_vals['coef_upper_95']) < 0.02 else \"No (rounding)\"\n",
    "    print(f\"95% CI for beta: [{ci_lower_beta:.2f}, {ci_upper_beta:.2f}] | \"\n",
    "          f\"Original: [{orig_vals['coef_lower_95']:.2f}, {orig_vals['coef_upper_95']:.2f}] | \"\n",
    "          f\"Matches? [{ci_lower_match}, {ci_upper_match}]\")\n",
    "    \n",
    "    # 3. 95% Confidence Interval for Hazard Ratio\n",
    "    ci_lower_hr = np.exp(ci_lower_beta)\n",
    "    ci_upper_hr = np.exp(ci_upper_beta)\n",
    "    ci_lower_hr_match = \"Yes\" if (ci_lower_hr < 1e-10 and orig_vals['exp(coef)_lower_95'] == 0.00) or \\\n",
    "                                 abs(ci_lower_hr - orig_vals['exp(coef)_lower_95']) < 1e-10 else \"No (rounding)\"\n",
    "    ci_upper_hr_match = \"Yes\" if (ci_upper_hr == float('inf') and orig_vals['exp(coef)_upper_95'] == float('inf')) or \\\n",
    "                                 abs(ci_upper_hr - orig_vals['exp(coef)_upper_95']) / orig_vals['exp(coef)_upper_95'] < 0.02 else \"No (rounding)\"\n",
    "    print(f\"95% CI for exp(beta): [{ci_lower_hr:.2e}, {ci_upper_hr:.2e}] | \"\n",
    "          f\"Original: [{orig_vals['exp(coef)_lower_95']:.2e}, {orig_vals['exp(coef)_upper_95']:.2e}] | \"\n",
    "          f\"Matches? [{ci_lower_hr_match}, {ci_upper_hr_match}]\")\n",
    "    \n",
    "    # 4. Z-statistic: beta / SE\n",
    "    z = beta / se_beta\n",
    "    z_match = \"Yes\" if abs(z - orig_vals['z']) < 0.01 else \"No (rounding)\"\n",
    "    print(f\"Z-statistic: {z:.2f} | Original: {orig_vals['z']:.2f} | Matches? {z_match}\")\n",
    "    \n",
    "    # 5. P-value: 2 * (1 - CDF(|Z|))\n",
    "    p_value = 2 * (1 - norm.cdf(abs(z)))\n",
    "    p_match = \"Yes\" if abs(p_value - orig_vals['p']) < 0.01 else \"No (rounding)\"\n",
    "    print(f\"P-value: {p_value:.2f} | Original: {orig_vals['p']:.2f} | Matches? {p_match}\")\n",
    "    \n",
    "    # 6. -log2(p)\n",
    "    log2_p = -math.log2(p_value) if p_value > 0 else float('inf')\n",
    "    log2_p_match = \"Yes\" if abs(log2_p - orig_vals['-log2(p)']) < 0.01 else \"No (rounding)\"\n",
    "    print(f\"-log2(p): {log2_p:.2f} | Original: {orig_vals['-log2(p)']:.2f} | Matches? {log2_p_match}\")\n",
    "\n",
    "# Verify each covariate\n",
    "for cov in ['age', 'sex', 'height']:\n",
    "    verify_cox_stats(cov, coef[cov], se[cov], original_values[cov])"
   ]
  },
  {
   "cell_type": "code",
   "execution_count": null,
   "metadata": {},
   "outputs": [],
   "source": []
  }
 ],
 "metadata": {
  "kernelspec": {
   "display_name": "Python 3",
   "language": "python",
   "name": "python3"
  },
  "language_info": {
   "codemirror_mode": {
    "name": "ipython",
    "version": 3
   },
   "file_extension": ".py",
   "mimetype": "text/x-python",
   "name": "python",
   "nbconvert_exporter": "python",
   "pygments_lexer": "ipython3",
   "version": "3.10.15"
  }
 },
 "nbformat": 4,
 "nbformat_minor": 2
}
